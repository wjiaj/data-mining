{
 "cells": [
  {
   "cell_type": "code",
   "execution_count": 1,
   "metadata": {},
   "outputs": [],
   "source": [
    "import numpy as np\n",
    "import pandas as pd\n",
    "import matplotlib.pyplot as plt"
   ]
  },
  {
   "cell_type": "code",
   "execution_count": 2,
   "metadata": {},
   "outputs": [],
   "source": [
    "data = pd.read_csv('train.csv')"
   ]
  },
  {
   "cell_type": "code",
   "execution_count": 3,
   "metadata": {},
   "outputs": [
    {
     "data": {
      "text/html": [
       "<div>\n",
       "<style scoped>\n",
       "    .dataframe tbody tr th:only-of-type {\n",
       "        vertical-align: middle;\n",
       "    }\n",
       "\n",
       "    .dataframe tbody tr th {\n",
       "        vertical-align: top;\n",
       "    }\n",
       "\n",
       "    .dataframe thead th {\n",
       "        text-align: right;\n",
       "    }\n",
       "</style>\n",
       "<table border=\"1\" class=\"dataframe\">\n",
       "  <thead>\n",
       "    <tr style=\"text-align: right;\">\n",
       "      <th></th>\n",
       "      <th>Unnamed: 0</th>\n",
       "      <th>Unnamed: 0.1</th>\n",
       "      <th>low_volume_percent</th>\n",
       "      <th>middle_volume_percent</th>\n",
       "      <th>take_amount_in_later_12_month_highest</th>\n",
       "      <th>trans_amount_increase_rate_lately</th>\n",
       "      <th>trans_activity_month</th>\n",
       "      <th>trans_activity_day</th>\n",
       "      <th>transd_mcc</th>\n",
       "      <th>trans_days_interval_filter</th>\n",
       "      <th>...</th>\n",
       "      <th>loans_max_limit</th>\n",
       "      <th>loans_avg_limit</th>\n",
       "      <th>consfin_credit_limit</th>\n",
       "      <th>consfin_credibility</th>\n",
       "      <th>consfin_org_count_current</th>\n",
       "      <th>consfin_product_count</th>\n",
       "      <th>consfin_max_limit</th>\n",
       "      <th>consfin_avg_limit</th>\n",
       "      <th>latest_query_day</th>\n",
       "      <th>loans_latest_day</th>\n",
       "    </tr>\n",
       "  </thead>\n",
       "  <tbody>\n",
       "    <tr>\n",
       "      <th>0</th>\n",
       "      <td>3324</td>\n",
       "      <td>8333</td>\n",
       "      <td>0.01</td>\n",
       "      <td>0.89</td>\n",
       "      <td>3500</td>\n",
       "      <td>1.03</td>\n",
       "      <td>1.00</td>\n",
       "      <td>0.566</td>\n",
       "      <td>23.0</td>\n",
       "      <td>12.0</td>\n",
       "      <td>...</td>\n",
       "      <td>6200.0</td>\n",
       "      <td>2428.0</td>\n",
       "      <td>10900.0</td>\n",
       "      <td>79.0</td>\n",
       "      <td>6.0</td>\n",
       "      <td>7.0</td>\n",
       "      <td>16800.0</td>\n",
       "      <td>7933.0</td>\n",
       "      <td>10.0</td>\n",
       "      <td>41.0</td>\n",
       "    </tr>\n",
       "    <tr>\n",
       "      <th>1</th>\n",
       "      <td>75</td>\n",
       "      <td>198</td>\n",
       "      <td>0.00</td>\n",
       "      <td>1.00</td>\n",
       "      <td>0</td>\n",
       "      <td>0.85</td>\n",
       "      <td>1.00</td>\n",
       "      <td>0.436</td>\n",
       "      <td>18.0</td>\n",
       "      <td>27.0</td>\n",
       "      <td>...</td>\n",
       "      <td>4100.0</td>\n",
       "      <td>1541.0</td>\n",
       "      <td>7700.0</td>\n",
       "      <td>75.0</td>\n",
       "      <td>7.0</td>\n",
       "      <td>7.0</td>\n",
       "      <td>13200.0</td>\n",
       "      <td>6785.0</td>\n",
       "      <td>7.0</td>\n",
       "      <td>53.0</td>\n",
       "    </tr>\n",
       "    <tr>\n",
       "      <th>2</th>\n",
       "      <td>871</td>\n",
       "      <td>2191</td>\n",
       "      <td>0.13</td>\n",
       "      <td>0.71</td>\n",
       "      <td>0</td>\n",
       "      <td>3.59</td>\n",
       "      <td>0.64</td>\n",
       "      <td>0.416</td>\n",
       "      <td>19.0</td>\n",
       "      <td>22.0</td>\n",
       "      <td>...</td>\n",
       "      <td>2300.0</td>\n",
       "      <td>1387.0</td>\n",
       "      <td>7900.0</td>\n",
       "      <td>79.0</td>\n",
       "      <td>7.0</td>\n",
       "      <td>8.0</td>\n",
       "      <td>14400.0</td>\n",
       "      <td>4914.0</td>\n",
       "      <td>11.0</td>\n",
       "      <td>1.0</td>\n",
       "    </tr>\n",
       "    <tr>\n",
       "      <th>3</th>\n",
       "      <td>2916</td>\n",
       "      <td>7300</td>\n",
       "      <td>0.01</td>\n",
       "      <td>0.99</td>\n",
       "      <td>1000</td>\n",
       "      <td>1.03</td>\n",
       "      <td>0.91</td>\n",
       "      <td>0.051</td>\n",
       "      <td>10.0</td>\n",
       "      <td>87.0</td>\n",
       "      <td>...</td>\n",
       "      <td>4700.0</td>\n",
       "      <td>2900.0</td>\n",
       "      <td>3000.0</td>\n",
       "      <td>65.0</td>\n",
       "      <td>1.0</td>\n",
       "      <td>1.0</td>\n",
       "      <td>3000.0</td>\n",
       "      <td>3000.0</td>\n",
       "      <td>23.0</td>\n",
       "      <td>190.0</td>\n",
       "    </tr>\n",
       "    <tr>\n",
       "      <th>4</th>\n",
       "      <td>1255</td>\n",
       "      <td>3273</td>\n",
       "      <td>0.02</td>\n",
       "      <td>0.93</td>\n",
       "      <td>1500</td>\n",
       "      <td>0.70</td>\n",
       "      <td>0.50</td>\n",
       "      <td>0.425</td>\n",
       "      <td>21.0</td>\n",
       "      <td>11.0</td>\n",
       "      <td>...</td>\n",
       "      <td>2600.0</td>\n",
       "      <td>1816.0</td>\n",
       "      <td>13500.0</td>\n",
       "      <td>77.0</td>\n",
       "      <td>5.0</td>\n",
       "      <td>5.0</td>\n",
       "      <td>20400.0</td>\n",
       "      <td>8700.0</td>\n",
       "      <td>12.0</td>\n",
       "      <td>90.0</td>\n",
       "    </tr>\n",
       "  </tbody>\n",
       "</table>\n",
       "<p>5 rows × 86 columns</p>\n",
       "</div>"
      ],
      "text/plain": [
       "   Unnamed: 0  Unnamed: 0.1  low_volume_percent  middle_volume_percent  \\\n",
       "0        3324          8333                0.01                   0.89   \n",
       "1          75           198                0.00                   1.00   \n",
       "2         871          2191                0.13                   0.71   \n",
       "3        2916          7300                0.01                   0.99   \n",
       "4        1255          3273                0.02                   0.93   \n",
       "\n",
       "   take_amount_in_later_12_month_highest  trans_amount_increase_rate_lately  \\\n",
       "0                                   3500                               1.03   \n",
       "1                                      0                               0.85   \n",
       "2                                      0                               3.59   \n",
       "3                                   1000                               1.03   \n",
       "4                                   1500                               0.70   \n",
       "\n",
       "   trans_activity_month  trans_activity_day  transd_mcc  \\\n",
       "0                  1.00               0.566        23.0   \n",
       "1                  1.00               0.436        18.0   \n",
       "2                  0.64               0.416        19.0   \n",
       "3                  0.91               0.051        10.0   \n",
       "4                  0.50               0.425        21.0   \n",
       "\n",
       "   trans_days_interval_filter  ...  loans_max_limit  loans_avg_limit  \\\n",
       "0                        12.0  ...           6200.0           2428.0   \n",
       "1                        27.0  ...           4100.0           1541.0   \n",
       "2                        22.0  ...           2300.0           1387.0   \n",
       "3                        87.0  ...           4700.0           2900.0   \n",
       "4                        11.0  ...           2600.0           1816.0   \n",
       "\n",
       "   consfin_credit_limit  consfin_credibility  consfin_org_count_current  \\\n",
       "0               10900.0                 79.0                        6.0   \n",
       "1                7700.0                 75.0                        7.0   \n",
       "2                7900.0                 79.0                        7.0   \n",
       "3                3000.0                 65.0                        1.0   \n",
       "4               13500.0                 77.0                        5.0   \n",
       "\n",
       "   consfin_product_count  consfin_max_limit  consfin_avg_limit  \\\n",
       "0                    7.0            16800.0             7933.0   \n",
       "1                    7.0            13200.0             6785.0   \n",
       "2                    8.0            14400.0             4914.0   \n",
       "3                    1.0             3000.0             3000.0   \n",
       "4                    5.0            20400.0             8700.0   \n",
       "\n",
       "   latest_query_day  loans_latest_day  \n",
       "0              10.0              41.0  \n",
       "1               7.0              53.0  \n",
       "2              11.0               1.0  \n",
       "3              23.0             190.0  \n",
       "4              12.0              90.0  \n",
       "\n",
       "[5 rows x 86 columns]"
      ]
     },
     "execution_count": 3,
     "metadata": {},
     "output_type": "execute_result"
    }
   ],
   "source": [
    "data.head()"
   ]
  },
  {
   "cell_type": "code",
   "execution_count": 4,
   "metadata": {},
   "outputs": [],
   "source": [
    "data.drop(['Unnamed: 0','Unnamed: 0.1'],axis =1,inplace = True)"
   ]
  },
  {
   "cell_type": "code",
   "execution_count": 5,
   "metadata": {},
   "outputs": [
    {
     "data": {
      "text/html": [
       "<div>\n",
       "<style scoped>\n",
       "    .dataframe tbody tr th:only-of-type {\n",
       "        vertical-align: middle;\n",
       "    }\n",
       "\n",
       "    .dataframe tbody tr th {\n",
       "        vertical-align: top;\n",
       "    }\n",
       "\n",
       "    .dataframe thead th {\n",
       "        text-align: right;\n",
       "    }\n",
       "</style>\n",
       "<table border=\"1\" class=\"dataframe\">\n",
       "  <thead>\n",
       "    <tr style=\"text-align: right;\">\n",
       "      <th></th>\n",
       "      <th>low_volume_percent</th>\n",
       "      <th>middle_volume_percent</th>\n",
       "      <th>take_amount_in_later_12_month_highest</th>\n",
       "      <th>trans_amount_increase_rate_lately</th>\n",
       "      <th>trans_activity_month</th>\n",
       "      <th>trans_activity_day</th>\n",
       "      <th>transd_mcc</th>\n",
       "      <th>trans_days_interval_filter</th>\n",
       "      <th>trans_days_interval</th>\n",
       "      <th>regional_mobility</th>\n",
       "      <th>...</th>\n",
       "      <th>loans_max_limit</th>\n",
       "      <th>loans_avg_limit</th>\n",
       "      <th>consfin_credit_limit</th>\n",
       "      <th>consfin_credibility</th>\n",
       "      <th>consfin_org_count_current</th>\n",
       "      <th>consfin_product_count</th>\n",
       "      <th>consfin_max_limit</th>\n",
       "      <th>consfin_avg_limit</th>\n",
       "      <th>latest_query_day</th>\n",
       "      <th>loans_latest_day</th>\n",
       "    </tr>\n",
       "  </thead>\n",
       "  <tbody>\n",
       "    <tr>\n",
       "      <th>0</th>\n",
       "      <td>0.01</td>\n",
       "      <td>0.89</td>\n",
       "      <td>3500</td>\n",
       "      <td>1.03</td>\n",
       "      <td>1.00</td>\n",
       "      <td>0.566</td>\n",
       "      <td>23.0</td>\n",
       "      <td>12.0</td>\n",
       "      <td>30.0</td>\n",
       "      <td>2.0</td>\n",
       "      <td>...</td>\n",
       "      <td>6200.0</td>\n",
       "      <td>2428.0</td>\n",
       "      <td>10900.0</td>\n",
       "      <td>79.0</td>\n",
       "      <td>6.0</td>\n",
       "      <td>7.0</td>\n",
       "      <td>16800.0</td>\n",
       "      <td>7933.0</td>\n",
       "      <td>10.0</td>\n",
       "      <td>41.0</td>\n",
       "    </tr>\n",
       "    <tr>\n",
       "      <th>1</th>\n",
       "      <td>0.00</td>\n",
       "      <td>1.00</td>\n",
       "      <td>0</td>\n",
       "      <td>0.85</td>\n",
       "      <td>1.00</td>\n",
       "      <td>0.436</td>\n",
       "      <td>18.0</td>\n",
       "      <td>27.0</td>\n",
       "      <td>16.0</td>\n",
       "      <td>3.0</td>\n",
       "      <td>...</td>\n",
       "      <td>4100.0</td>\n",
       "      <td>1541.0</td>\n",
       "      <td>7700.0</td>\n",
       "      <td>75.0</td>\n",
       "      <td>7.0</td>\n",
       "      <td>7.0</td>\n",
       "      <td>13200.0</td>\n",
       "      <td>6785.0</td>\n",
       "      <td>7.0</td>\n",
       "      <td>53.0</td>\n",
       "    </tr>\n",
       "    <tr>\n",
       "      <th>2</th>\n",
       "      <td>0.13</td>\n",
       "      <td>0.71</td>\n",
       "      <td>0</td>\n",
       "      <td>3.59</td>\n",
       "      <td>0.64</td>\n",
       "      <td>0.416</td>\n",
       "      <td>19.0</td>\n",
       "      <td>22.0</td>\n",
       "      <td>17.0</td>\n",
       "      <td>4.0</td>\n",
       "      <td>...</td>\n",
       "      <td>2300.0</td>\n",
       "      <td>1387.0</td>\n",
       "      <td>7900.0</td>\n",
       "      <td>79.0</td>\n",
       "      <td>7.0</td>\n",
       "      <td>8.0</td>\n",
       "      <td>14400.0</td>\n",
       "      <td>4914.0</td>\n",
       "      <td>11.0</td>\n",
       "      <td>1.0</td>\n",
       "    </tr>\n",
       "    <tr>\n",
       "      <th>3</th>\n",
       "      <td>0.01</td>\n",
       "      <td>0.99</td>\n",
       "      <td>1000</td>\n",
       "      <td>1.03</td>\n",
       "      <td>0.91</td>\n",
       "      <td>0.051</td>\n",
       "      <td>10.0</td>\n",
       "      <td>87.0</td>\n",
       "      <td>38.0</td>\n",
       "      <td>3.0</td>\n",
       "      <td>...</td>\n",
       "      <td>4700.0</td>\n",
       "      <td>2900.0</td>\n",
       "      <td>3000.0</td>\n",
       "      <td>65.0</td>\n",
       "      <td>1.0</td>\n",
       "      <td>1.0</td>\n",
       "      <td>3000.0</td>\n",
       "      <td>3000.0</td>\n",
       "      <td>23.0</td>\n",
       "      <td>190.0</td>\n",
       "    </tr>\n",
       "    <tr>\n",
       "      <th>4</th>\n",
       "      <td>0.02</td>\n",
       "      <td>0.93</td>\n",
       "      <td>1500</td>\n",
       "      <td>0.70</td>\n",
       "      <td>0.50</td>\n",
       "      <td>0.425</td>\n",
       "      <td>21.0</td>\n",
       "      <td>11.0</td>\n",
       "      <td>14.0</td>\n",
       "      <td>4.0</td>\n",
       "      <td>...</td>\n",
       "      <td>2600.0</td>\n",
       "      <td>1816.0</td>\n",
       "      <td>13500.0</td>\n",
       "      <td>77.0</td>\n",
       "      <td>5.0</td>\n",
       "      <td>5.0</td>\n",
       "      <td>20400.0</td>\n",
       "      <td>8700.0</td>\n",
       "      <td>12.0</td>\n",
       "      <td>90.0</td>\n",
       "    </tr>\n",
       "  </tbody>\n",
       "</table>\n",
       "<p>5 rows × 84 columns</p>\n",
       "</div>"
      ],
      "text/plain": [
       "   low_volume_percent  middle_volume_percent  \\\n",
       "0                0.01                   0.89   \n",
       "1                0.00                   1.00   \n",
       "2                0.13                   0.71   \n",
       "3                0.01                   0.99   \n",
       "4                0.02                   0.93   \n",
       "\n",
       "   take_amount_in_later_12_month_highest  trans_amount_increase_rate_lately  \\\n",
       "0                                   3500                               1.03   \n",
       "1                                      0                               0.85   \n",
       "2                                      0                               3.59   \n",
       "3                                   1000                               1.03   \n",
       "4                                   1500                               0.70   \n",
       "\n",
       "   trans_activity_month  trans_activity_day  transd_mcc  \\\n",
       "0                  1.00               0.566        23.0   \n",
       "1                  1.00               0.436        18.0   \n",
       "2                  0.64               0.416        19.0   \n",
       "3                  0.91               0.051        10.0   \n",
       "4                  0.50               0.425        21.0   \n",
       "\n",
       "   trans_days_interval_filter  trans_days_interval  regional_mobility  ...  \\\n",
       "0                        12.0                 30.0                2.0  ...   \n",
       "1                        27.0                 16.0                3.0  ...   \n",
       "2                        22.0                 17.0                4.0  ...   \n",
       "3                        87.0                 38.0                3.0  ...   \n",
       "4                        11.0                 14.0                4.0  ...   \n",
       "\n",
       "   loans_max_limit  loans_avg_limit  consfin_credit_limit  \\\n",
       "0           6200.0           2428.0               10900.0   \n",
       "1           4100.0           1541.0                7700.0   \n",
       "2           2300.0           1387.0                7900.0   \n",
       "3           4700.0           2900.0                3000.0   \n",
       "4           2600.0           1816.0               13500.0   \n",
       "\n",
       "   consfin_credibility  consfin_org_count_current  consfin_product_count  \\\n",
       "0                 79.0                        6.0                    7.0   \n",
       "1                 75.0                        7.0                    7.0   \n",
       "2                 79.0                        7.0                    8.0   \n",
       "3                 65.0                        1.0                    1.0   \n",
       "4                 77.0                        5.0                    5.0   \n",
       "\n",
       "   consfin_max_limit  consfin_avg_limit  latest_query_day  loans_latest_day  \n",
       "0            16800.0             7933.0              10.0              41.0  \n",
       "1            13200.0             6785.0               7.0              53.0  \n",
       "2            14400.0             4914.0              11.0               1.0  \n",
       "3             3000.0             3000.0              23.0             190.0  \n",
       "4            20400.0             8700.0              12.0              90.0  \n",
       "\n",
       "[5 rows x 84 columns]"
      ]
     },
     "execution_count": 5,
     "metadata": {},
     "output_type": "execute_result"
    }
   ],
   "source": [
    "data.head()"
   ]
  },
  {
   "cell_type": "code",
   "execution_count": 6,
   "metadata": {},
   "outputs": [
    {
     "data": {
      "text/plain": [
       "<matplotlib.axes._subplots.AxesSubplot at 0x20025cf0978>"
      ]
     },
     "execution_count": 6,
     "metadata": {},
     "output_type": "execute_result"
    },
    {
     "data": {
      "image/png": "[encoded data removed]",
      "text/plain": [
       "<Figure size 432x288 with 1 Axes>"
      ]
     },
     "metadata": {
      "needs_background": "light"
     },
     "output_type": "display_data"
    }
   ],
   "source": [
    "data['transd_mcc'].hist()"
   ]
  },
  {
   "cell_type": "markdown",
   "metadata": {},
   "source": [
    "注意到数据中有三列['latest_one_month_loan','latest_three_month_loan','latest_six_month_loan']为累计值，我分别将其替换成一段时间内的平均值。同理有三列特征['latest_one_month_apply','latest_three_month_apply','latest_six_month_apply']."
   ]
  },
  {
   "cell_type": "code",
   "execution_count": 7,
   "metadata": {},
   "outputs": [],
   "source": [
    "data['avg_one_month_loan'] = data['latest_one_month_loan']\n",
    "data['avg_three_month_loan'] = data['latest_three_month_loan']/3\n",
    "data['avg_six_month_loan'] = data['latest_six_month_loan']/6\n",
    "data['avg_one_month_apply'] = data['latest_one_month_apply']\n",
    "data['avg_three_month_apply'] = data['latest_three_month_apply']/3\n",
    "data['avg_six_month_apply'] = data['latest_six_month_apply']/6"
   ]
  },
  {
   "cell_type": "code",
   "execution_count": 8,
   "metadata": {},
   "outputs": [],
   "source": [
    "data.drop(['latest_one_month_loan','latest_three_month_loan','latest_six_month_loan','latest_one_month_apply','latest_three_month_apply','latest_six_month_apply'],axis = 1,inplace = True)"
   ]
  },
  {
   "cell_type": "code",
   "execution_count": 9,
   "metadata": {},
   "outputs": [
    {
     "data": {
      "text/plain": [
       "20110101.0"
      ]
     },
     "execution_count": 9,
     "metadata": {},
     "output_type": "execute_result"
    }
   ],
   "source": [
    "data['first_transaction_time'].min()"
   ]
  },
  {
   "cell_type": "markdown",
   "metadata": {},
   "source": [
    "发现第一次交易时间均在2011年之后，故对于特征['number_of_trans_from_2011','historical_trans_amount','historical_trans_day']同样用平均数表示每单平均交易量、每天平均交易量。"
   ]
  },
  {
   "cell_type": "code",
   "execution_count": 10,
   "metadata": {},
   "outputs": [],
   "source": [
    "data['avg_amount_once'] = data['historical_trans_amount']/data['number_of_trans_from_2011']\n",
    "data['avg_amount_perday'] = data['historical_trans_amount']/data['historical_trans_day']"
   ]
  },
  {
   "cell_type": "code",
   "execution_count": 11,
   "metadata": {},
   "outputs": [],
   "source": [
    "data.drop(['number_of_trans_from_2011','historical_trans_day'],axis = 1,inplace = True)"
   ]
  },
  {
   "cell_type": "markdown",
   "metadata": {},
   "source": [
    "对于['history_suc_fee','history_fail_fee','latest_one_month_suc','latest_one_month_fail']来说，可能成功和失败的次数没有很大的意义，我们将其转换为成功、失败率。"
   ]
  },
  {
   "cell_type": "code",
   "execution_count": 12,
   "metadata": {},
   "outputs": [],
   "source": [
    "data['history_suc_rate'] = data['history_suc_fee']/(data['history_suc_fee']+data['history_fail_fee'])\n",
    "data['latest_one_month_suc_rate'] = data['latest_one_month_suc']/(data['latest_one_month_fail']+data['latest_one_month_suc'])"
   ]
  },
  {
   "cell_type": "code",
   "execution_count": 13,
   "metadata": {},
   "outputs": [],
   "source": [
    "data.fillna(0,inplace=True)  # 近一个月成功率处由于有部分数据成功数和失败数均为0计算后变为了nan"
   ]
  },
  {
   "cell_type": "code",
   "execution_count": 14,
   "metadata": {},
   "outputs": [],
   "source": [
    "data.drop(['history_suc_fee','history_fail_fee','latest_one_month_suc','latest_one_month_fail'],axis = 1,inplace=True)"
   ]
  },
  {
   "cell_type": "code",
   "execution_count": 15,
   "metadata": {},
   "outputs": [],
   "source": [
    "data.drop(['latest_query_time','loans_latest_time'],axis = 1,inplace = True)  # 与latest_query_day，loans_latest_day体现相同信息"
   ]
  },
  {
   "cell_type": "code",
   "execution_count": 16,
   "metadata": {},
   "outputs": [
    {
     "data": {
      "text/plain": [
       "80"
      ]
     },
     "execution_count": 16,
     "metadata": {},
     "output_type": "execute_result"
    }
   ],
   "source": [
    "len(data.columns)  # 仍有80个特征"
   ]
  },
  {
   "cell_type": "markdown",
   "metadata": {},
   "source": [
    "# 特征选择"
   ]
  },
  {
   "cell_type": "markdown",
   "metadata": {},
   "source": [
    "在此之前对数值类型特征进行数据标准化,类别类型特征保持原样"
   ]
  },
  {
   "cell_type": "code",
   "execution_count": 17,
   "metadata": {},
   "outputs": [],
   "source": [
    "from sklearn.preprocessing import StandardScaler"
   ]
  },
  {
   "cell_type": "code",
   "execution_count": 18,
   "metadata": {},
   "outputs": [],
   "source": [
    "data_cat = data[['regional_mobility','student_feature','is_high_user','reg_preference_for_trad','status']]"
   ]
  },
  {
   "cell_type": "code",
   "execution_count": 19,
   "metadata": {},
   "outputs": [],
   "source": [
    "scaler = StandardScaler()"
   ]
  },
  {
   "cell_type": "code",
   "execution_count": 20,
   "metadata": {},
   "outputs": [],
   "source": [
    "data_num_ori = data.drop(['regional_mobility','student_feature','is_high_user','reg_preference_for_trad','status'],axis = 1)"
   ]
  },
  {
   "cell_type": "code",
   "execution_count": 21,
   "metadata": {},
   "outputs": [
    {
     "name": "stderr",
     "output_type": "stream",
     "text": [
      "D:\\anaconda\\lib\\site-packages\\sklearn\\preprocessing\\data.py:645: DataConversionWarning: Data with input dtype int64, float64 were all converted to float64 by StandardScaler.\n",
      "  return self.partial_fit(X, y)\n",
      "D:\\anaconda\\lib\\site-packages\\ipykernel_launcher.py:2: DataConversionWarning: Data with input dtype int64, float64 were all converted to float64 by StandardScaler.\n",
      "  \n"
     ]
    }
   ],
   "source": [
    "scaler.fit(data_num_ori)\n",
    "data_num = scaler.transform(data_num_ori)"
   ]
  },
  {
   "cell_type": "code",
   "execution_count": 22,
   "metadata": {},
   "outputs": [],
   "source": [
    "data_num = pd.DataFrame(data_num)\n",
    "data_prepared = pd.concat([data_num,data_cat],axis = 1)"
   ]
  },
  {
   "cell_type": "markdown",
   "metadata": {},
   "source": [
    "查看关联度（线性）"
   ]
  },
  {
   "cell_type": "code",
   "execution_count": 23,
   "metadata": {},
   "outputs": [],
   "source": [
    "corr_matrix = data_prepared.corr()"
   ]
  },
  {
   "cell_type": "code",
   "execution_count": 24,
   "metadata": {},
   "outputs": [
    {
     "data": {
      "text/plain": [
       "status               1.000000\n",
       "24                   0.331591\n",
       "46                   0.286010\n",
       "12                   0.143282\n",
       "25                   0.121601\n",
       "26                   0.115559\n",
       "16                   0.110828\n",
       "18                   0.072292\n",
       "35                   0.070964\n",
       "63                   0.057742\n",
       "66                   0.055185\n",
       "0                    0.049164\n",
       "67                   0.046702\n",
       "10                   0.046336\n",
       "1                    0.042541\n",
       "22                   0.040331\n",
       "40                   0.038552\n",
       "44                   0.038152\n",
       "20                   0.035316\n",
       "30                   0.031223\n",
       "8                    0.028827\n",
       "60                   0.018865\n",
       "47                   0.018411\n",
       "54                   0.018348\n",
       "53                   0.017755\n",
       "49                   0.017755\n",
       "64                   0.015722\n",
       "43                   0.015384\n",
       "4                    0.015333\n",
       "48                   0.013929\n",
       "                       ...   \n",
       "65                  -0.021799\n",
       "31                  -0.024865\n",
       "69                  -0.026564\n",
       "37                  -0.027584\n",
       "14                  -0.028581\n",
       "72                  -0.029296\n",
       "56                  -0.032342\n",
       "32                  -0.033500\n",
       "45                  -0.033629\n",
       "5                   -0.035578\n",
       "58                  -0.036001\n",
       "55                  -0.038936\n",
       "11                  -0.039701\n",
       "51                  -0.041000\n",
       "68                  -0.041411\n",
       "17                  -0.045400\n",
       "34                  -0.046654\n",
       "regional_mobility   -0.046803\n",
       "28                  -0.050282\n",
       "27                  -0.052234\n",
       "13                  -0.056053\n",
       "61                  -0.064195\n",
       "19                  -0.067496\n",
       "21                  -0.070614\n",
       "57                  -0.080957\n",
       "62                  -0.085885\n",
       "74                  -0.218445\n",
       "36                  -0.253214\n",
       "42                  -0.266039\n",
       "73                  -0.394570\n",
       "Name: status, Length: 80, dtype: float64"
      ]
     },
     "execution_count": 24,
     "metadata": {},
     "output_type": "execute_result"
    }
   ],
   "source": [
    "corr_matrix['status'].sort_values(ascending = False)"
   ]
  },
  {
   "cell_type": "markdown",
   "metadata": {},
   "source": [
    "## IV值特征选择"
   ]
  },
  {
   "cell_type": "code",
   "execution_count": 25,
   "metadata": {},
   "outputs": [
    {
     "name": "stderr",
     "output_type": "stream",
     "text": [
      "D:\\anaconda\\lib\\site-packages\\ipykernel_launcher.py:10: RuntimeWarning: divide by zero encountered in true_divide\n",
      "  # Remove the CWD from sys.path while we load stuff.\n",
      "D:\\anaconda\\lib\\site-packages\\ipykernel_launcher.py:10: RuntimeWarning: divide by zero encountered in log\n",
      "  # Remove the CWD from sys.path while we load stuff.\n"
     ]
    }
   ],
   "source": [
    "def CalcIV(Xvar,Yvar):\n",
    "    N_0=np.sum(Yvar==0)\n",
    "    N_1=np.sum(Yvar==1)\n",
    "    N_0_group=np.zeros(np.unique(Xvar).shape)\n",
    "    \n",
    "    N_1_group=np.zeros(np.unique(Xvar).shape)\n",
    "    for i in range(len(np.unique(Xvar))):\n",
    "        N_0_group[i] = Yvar[(Xvar==np.unique(Xvar)[i])&(Yvar==0)].count()\n",
    "        N_1_group[i] = Yvar[(Xvar==np.unique(Xvar)[i])&(Yvar==1)].count()\n",
    "    iv = np.sum((N_0_group/N_0-N_1_group/N_1)*np.log((N_0_group/N_0)/(N_1_group/N_1)))\n",
    "    if iv>=1.0:## 处理极端值\n",
    "        iv=1\n",
    "    return iv\n",
    "\n",
    "def caliv_batch(df,Yvar):\n",
    "    ivlist=[]\n",
    "    for col in df.columns:\n",
    "        iv=CalcIV(df[col],Yvar)\n",
    "        ivlist.append(iv)\n",
    "    names=list(df.columns)\n",
    "    iv_df=pd.DataFrame({'Var':names,'Iv':ivlist},columns=['Var','Iv'])\n",
    "\n",
    "    return iv_df,ivlist\n",
    "im_iv, ivl = caliv_batch(data_prepared.iloc[:,:-1],data_prepared.iloc[:,-1])"
   ]
  },
  {
   "cell_type": "code",
   "execution_count": 26,
   "metadata": {},
   "outputs": [
    {
     "data": {
      "text/plain": [
       "count    79.000000\n",
       "mean      0.939570\n",
       "std       0.234326\n",
       "min       0.002525\n",
       "25%       1.000000\n",
       "50%       1.000000\n",
       "75%       1.000000\n",
       "max       1.000000\n",
       "Name: Iv, dtype: float64"
      ]
     },
     "execution_count": 26,
     "metadata": {},
     "output_type": "execute_result"
    }
   ],
   "source": [
    "im_iv['Iv'].describe()"
   ]
  },
  {
   "cell_type": "code",
   "execution_count": 27,
   "metadata": {},
   "outputs": [],
   "source": [
    "threshold = 0.02\n",
    "threshold2 = 0.6\n",
    "data_index=[]\n",
    "for i in range(len(ivl)):\n",
    "    if (im_iv['Iv'][i]< threshold)|(im_iv['Iv'][i] > threshold2):\n",
    "        data_index.append(im_iv['Var'][i])\n",
    "datafinal_IV = data_prepared.drop(data_index,axis=1)"
   ]
  },
  {
   "cell_type": "code",
   "execution_count": 28,
   "metadata": {},
   "outputs": [
    {
     "data": {
      "text/plain": [
       "Index([12, 16, 'status'], dtype='object')"
      ]
     },
     "execution_count": 28,
     "metadata": {},
     "output_type": "execute_result"
    }
   ],
   "source": [
    "datafinal_IV.columns  #删去了接近80个特征，怎么那么多？？？"
   ]
  },
  {
   "cell_type": "code",
   "execution_count": 29,
   "metadata": {},
   "outputs": [
    {
     "data": {
      "text/plain": [
       "Index(['rank_trad_1_month', 'top_trans_count_last_1_month',\n",
       "       'latest_one_month_suc_rate'],\n",
       "      dtype='object')"
      ]
     },
     "execution_count": 29,
     "metadata": {},
     "output_type": "execute_result"
    }
   ],
   "source": [
    "data_num_ori.columns[[12,16,74]]"
   ]
  },
  {
   "cell_type": "code",
   "execution_count": 30,
   "metadata": {},
   "outputs": [],
   "source": [
    "x_train_IV = datafinal_IV.iloc[:,:-1]\n",
    "y_train_IV = datafinal_IV.iloc[:,-1]"
   ]
  },
  {
   "cell_type": "markdown",
   "metadata": {},
   "source": [
    "## 随机森林选择特征"
   ]
  },
  {
   "cell_type": "code",
   "execution_count": 32,
   "metadata": {},
   "outputs": [
    {
     "name": "stdout",
     "output_type": "stream",
     "text": [
      " 1. 0                              0.069169\n",
      " 2. 1                              0.046663\n",
      " 3. 2                              0.039846\n",
      " 4. 3                              0.034510\n",
      " 5. 4                              0.025588\n",
      " 6. 5                              0.020397\n",
      " 7. 6                              0.016309\n",
      " 8. 7                              0.016308\n",
      " 9. 8                              0.015939\n",
      "10. 9                              0.015866\n",
      "11. 10                             0.015363\n",
      "12. 11                             0.015254\n",
      "13. 12                             0.015223\n",
      "14. 13                             0.015167\n",
      "15. 14                             0.015091\n",
      "16. 15                             0.015012\n",
      "17. 16                             0.014884\n",
      "18. 17                             0.014876\n",
      "19. 18                             0.014707\n",
      "20. 19                             0.014605\n",
      "21. 20                             0.014311\n",
      "22. 21                             0.014178\n",
      "23. 22                             0.014128\n",
      "24. 23                             0.013794\n",
      "25. 24                             0.013790\n",
      "26. 25                             0.013747\n",
      "27. 26                             0.013689\n",
      "28. 27                             0.013177\n",
      "29. 28                             0.013004\n",
      "30. 29                             0.012076\n",
      "31. 30                             0.011942\n",
      "32. 31                             0.011885\n",
      "33. 32                             0.011880\n",
      "34. 33                             0.011837\n",
      "35. 34                             0.011781\n",
      "36. 35                             0.011732\n",
      "37. 36                             0.011582\n",
      "38. 37                             0.011510\n",
      "39. 38                             0.011320\n",
      "40. 39                             0.011240\n",
      "41. 40                             0.010993\n",
      "42. 41                             0.010664\n",
      "43. 42                             0.010646\n",
      "44. 43                             0.010610\n",
      "45. 44                             0.010609\n",
      "46. 45                             0.010563\n",
      "47. 46                             0.010437\n",
      "48. 47                             0.010273\n",
      "49. 48                             0.010097\n",
      "50. 49                             0.009840\n",
      "51. 50                             0.009796\n",
      "52. 51                             0.009742\n",
      "53. 52                             0.009543\n",
      "54. 53                             0.009079\n",
      "55. 54                             0.009049\n",
      "56. 55                             0.008802\n",
      "57. 56                             0.008688\n",
      "58. 57                             0.008595\n",
      "59. 58                             0.008495\n",
      "60. 59                             0.008487\n",
      "61. 60                             0.008302\n",
      "62. 61                             0.008163\n",
      "63. 62                             0.008022\n",
      "64. 63                             0.007922\n",
      "65. 64                             0.007883\n",
      "66. 65                             0.007827\n",
      "67. 66                             0.007164\n",
      "68. 67                             0.007102\n",
      "69. 68                             0.006745\n",
      "70. 69                             0.006721\n",
      "71. 70                             0.006667\n",
      "72. 71                             0.004626\n",
      "73. 72                             0.004343\n",
      "74. 73                             0.004327\n",
      "75. 74                             0.002715\n",
      "76. regional_mobility              0.001813\n",
      "77. student_feature                0.000834\n",
      "78. is_high_user                   0.000355\n",
      "79. reg_preference_for_trad        0.000076\n"
     ]
    }
   ],
   "source": [
    "from sklearn.ensemble import RandomForestClassifier\n",
    "x_train = data_prepared.iloc[:,:-1]\n",
    "y_train = data_prepared.iloc[:,-1]\n",
    "feat_lables = x_train.columns\n",
    "forest = RandomForestClassifier(n_estimators=10000, random_state=0,n_jobs=1)\n",
    "forest.fit(x_train, y_train)\n",
    "importance = forest.feature_importances_\n",
    "imp_result = np.argsort(importance)[::-1]\n",
    "\n",
    "for i in range(x_train.shape[1]):\n",
    "    print(\"%2d. %-*s %f\"%(i+1, 30, feat_lables[i], importance[imp_result[i]]))\n"
   ]
  },
  {
   "cell_type": "code",
   "execution_count": 35,
   "metadata": {},
   "outputs": [
    {
     "data": {
      "text/plain": [
       "(3095, 49)"
      ]
     },
     "execution_count": 35,
     "metadata": {},
     "output_type": "execute_result"
    }
   ],
   "source": [
    "threshold = 0.01\n",
    "data_index = list(x_train.columns[ importance < threshold])\n",
    "x_train_rf = x_train.drop(data_index,axis=1)\n",
    "x_train_rf.shape"
   ]
  },
  {
   "cell_type": "markdown",
   "metadata": {},
   "source": [
    "剩下了49个特征"
   ]
  },
  {
   "cell_type": "code",
   "execution_count": null,
   "metadata": {},
   "outputs": [],
   "source": []
  }
 ],
 "metadata": {
  "kernelspec": {
   "display_name": "Python 3",
   "language": "python",
   "name": "python3"
  },
  "language_info": {
   "codemirror_mode": {
    "name": "ipython",
    "version": 3
   },
   "file_extension": ".py",
   "mimetype": "text/x-python",
   "name": "python",
   "nbconvert_exporter": "python",
   "pygments_lexer": "ipython3",
   "version": "3.7.4"
  },
  "toc": {
   "base_numbering": 1,
   "nav_menu": {},
   "number_sections": true,
   "sideBar": true,
   "skip_h1_title": false,
   "title_cell": "Table of Contents",
   "title_sidebar": "Contents",
   "toc_cell": false,
   "toc_position": {},
   "toc_section_display": true,
   "toc_window_display": false
  }
 },
 "nbformat": 4,
 "nbformat_minor": 2
}
